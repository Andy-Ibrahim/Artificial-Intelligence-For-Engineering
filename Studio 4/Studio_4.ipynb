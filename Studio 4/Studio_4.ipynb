{
  "nbformat": 4,
  "nbformat_minor": 0,
  "metadata": {
    "colab": {
      "provenance": []
    },
    "kernelspec": {
      "name": "python3",
      "display_name": "Python 3"
    },
    "language_info": {
      "name": "python"
    }
  },
  "cells": [
    {
      "cell_type": "markdown",
      "source": [
        "# Load & Shuffle the datset\n",
        "\n"
      ],
      "metadata": {
        "id": "dbKRSJ11-BRH"
      }
    },
    {
      "cell_type": "code",
      "execution_count": 38,
      "metadata": {
        "id": "ZjrADcOre-Fw"
      },
      "outputs": [],
      "source": [
        "import pandas as pd\n",
        "\n",
        "# Load the dataset\n",
        "vegemite_df = pd.read_csv('vegemite.csv')\n",
        "\n",
        "# Shuffle the dataset\n",
        "vegemite_df = vegemite_df.sample(frac=1, random_state=42).reset_index(drop=True)\n"
      ]
    },
    {
      "cell_type": "markdown",
      "source": [
        "# Randomly Select 1000 Data Points with Equal Class Distribution"
      ],
      "metadata": {
        "id": "9YI2KFKo-NF9"
      }
    },
    {
      "cell_type": "code",
      "source": [
        "from sklearn.model_selection import train_test_split\n",
        "\n",
        "# Separate 1000 data points with near equal distribution\n",
        "vegemite_sampled, vegemite_remaining = train_test_split(\n",
        "    vegemite_df, test_size=1000, stratify=vegemite_df['Class'], random_state=42)\n",
        "\n",
        "# Ensure at least 300 samples from each class\n",
        "class_distribution = vegemite_sampled['Class'].value_counts()\n",
        "\n"
      ],
      "metadata": {
        "id": "tH2V7RfU-KF5"
      },
      "execution_count": 2,
      "outputs": []
    },
    {
      "cell_type": "code",
      "source": [
        "# Check for constant value columns\n",
        "constant_columns = [col for col in vegemite_df.columns if vegemite_df[col].nunique() == 1]\n",
        "constant_columns"
      ],
      "metadata": {
        "colab": {
          "base_uri": "https://localhost:8080/"
        },
        "id": "dzo2ycIm-efL",
        "outputId": "129d40b1-2f96-4f08-d8f4-512b5ed01b42"
      },
      "execution_count": 6,
      "outputs": [
        {
          "output_type": "execute_result",
          "data": {
            "text/plain": [
              "['TFE Steam temperature SP', 'TFE Product out temperature']"
            ]
          },
          "metadata": {},
          "execution_count": 6
        }
      ]
    },
    {
      "cell_type": "code",
      "source": [
        "# Remove constant value columns\n",
        "df = vegemite_df.drop(columns=constant_columns)"
      ],
      "metadata": {
        "id": "Y_nVu3L0_Nhy"
      },
      "execution_count": 12,
      "outputs": []
    },
    {
      "cell_type": "code",
      "source": [
        "# Identify columns with few unique integer values (e.g., less than 10 unique values)\n",
        "few_values_columns = [col for col in df.columns if df[col].dtype == 'int64' and df[col].nunique() < 10]\n",
        "\n",
        "# Convert these columns to categorical\n",
        "df[few_values_columns] = df[few_values_columns].astype('category')\n",
        "\n",
        "few_values_columns\n"
      ],
      "metadata": {
        "colab": {
          "base_uri": "https://localhost:8080/"
        },
        "id": "9Cr13D0x_mWI",
        "outputId": "cf52c813-b43d-4015-f737-bca8531f55f5"
      },
      "execution_count": 13,
      "outputs": [
        {
          "output_type": "execute_result",
          "data": {
            "text/plain": [
              "['Class']"
            ]
          },
          "metadata": {},
          "execution_count": 13
        }
      ]
    },
    {
      "cell_type": "markdown",
      "source": [
        "# Checking Class Distribution and Performing Undersampling/Oversampling or Adjusting Class Weights:"
      ],
      "metadata": {
        "id": "leddK4GG_1bz"
      }
    },
    {
      "cell_type": "code",
      "source": [
        "from sklearn.utils import resample\n",
        "\n",
        "# Check class distribution\n",
        "class_counts = df['Class'].value_counts()\n",
        "class_counts"
      ],
      "metadata": {
        "colab": {
          "base_uri": "https://localhost:8080/",
          "height": 210
        },
        "id": "-EblNaYW_4wZ",
        "outputId": "cd258117-d866-4394-fee5-fa15744d1dbf"
      },
      "execution_count": 15,
      "outputs": [
        {
          "output_type": "execute_result",
          "data": {
            "text/plain": [
              "Class\n",
              "2    7548\n",
              "1    5047\n",
              "0    2642\n",
              "Name: count, dtype: int64"
            ],
            "text/html": [
              "<div>\n",
              "<style scoped>\n",
              "    .dataframe tbody tr th:only-of-type {\n",
              "        vertical-align: middle;\n",
              "    }\n",
              "\n",
              "    .dataframe tbody tr th {\n",
              "        vertical-align: top;\n",
              "    }\n",
              "\n",
              "    .dataframe thead th {\n",
              "        text-align: right;\n",
              "    }\n",
              "</style>\n",
              "<table border=\"1\" class=\"dataframe\">\n",
              "  <thead>\n",
              "    <tr style=\"text-align: right;\">\n",
              "      <th></th>\n",
              "      <th>count</th>\n",
              "    </tr>\n",
              "    <tr>\n",
              "      <th>Class</th>\n",
              "      <th></th>\n",
              "    </tr>\n",
              "  </thead>\n",
              "  <tbody>\n",
              "    <tr>\n",
              "      <th>2</th>\n",
              "      <td>7548</td>\n",
              "    </tr>\n",
              "    <tr>\n",
              "      <th>1</th>\n",
              "      <td>5047</td>\n",
              "    </tr>\n",
              "    <tr>\n",
              "      <th>0</th>\n",
              "      <td>2642</td>\n",
              "    </tr>\n",
              "  </tbody>\n",
              "</table>\n",
              "</div><br><label><b>dtype:</b> int64</label>"
            ]
          },
          "metadata": {},
          "execution_count": 15
        }
      ]
    },
    {
      "cell_type": "markdown",
      "source": [
        "### Class 2 has significantly more samples than class 0 with class one being in between. We have to use oversamples or undersampling make it more balanced\n",
        "\n",
        "Instead of using oversampling or undersampling to balance the data, we can use both so that the the data meets in the middle.\n",
        "\n",
        "Using both oversampling and undersampling we get a more evenly distributed data seen in the result below"
      ],
      "metadata": {
        "id": "XI3ps8TbAdAz"
      }
    },
    {
      "cell_type": "code",
      "source": [
        "from imblearn.under_sampling import RandomUnderSampler\n",
        "from imblearn.over_sampling import SMOTE\n",
        "\n",
        "# Separate features and target\n",
        "X = df.drop('Class', axis=1)\n",
        "y = df['Class']\n",
        "\n",
        "# Undersample the majority class (Class 2)\n",
        "rus = RandomUnderSampler(sampling_strategy={2: 5000}, random_state=42)\n",
        "X_resampled, y_resampled = rus.fit_resample(X, y)\n",
        "\n",
        "# Oversample the minority class (Class 0)\n",
        "smote = SMOTE(sampling_strategy={0: 5000}, random_state=42)\n",
        "X_final, y_final = smote.fit_resample(X_resampled, y_resampled)\n",
        "\n",
        "# Check the new class distribution\n",
        "pd.Series(y_final).value_counts()\n",
        "\n"
      ],
      "metadata": {
        "colab": {
          "base_uri": "https://localhost:8080/",
          "height": 210
        },
        "id": "emMquUpkAlHe",
        "outputId": "44c35f53-1348-47a7-d282-45217a1e103e"
      },
      "execution_count": 20,
      "outputs": [
        {
          "output_type": "execute_result",
          "data": {
            "text/plain": [
              "Class\n",
              "1    5047\n",
              "0    5000\n",
              "2    5000\n",
              "Name: count, dtype: int64"
            ],
            "text/html": [
              "<div>\n",
              "<style scoped>\n",
              "    .dataframe tbody tr th:only-of-type {\n",
              "        vertical-align: middle;\n",
              "    }\n",
              "\n",
              "    .dataframe tbody tr th {\n",
              "        vertical-align: top;\n",
              "    }\n",
              "\n",
              "    .dataframe thead th {\n",
              "        text-align: right;\n",
              "    }\n",
              "</style>\n",
              "<table border=\"1\" class=\"dataframe\">\n",
              "  <thead>\n",
              "    <tr style=\"text-align: right;\">\n",
              "      <th></th>\n",
              "      <th>count</th>\n",
              "    </tr>\n",
              "    <tr>\n",
              "      <th>Class</th>\n",
              "      <th></th>\n",
              "    </tr>\n",
              "  </thead>\n",
              "  <tbody>\n",
              "    <tr>\n",
              "      <th>1</th>\n",
              "      <td>5047</td>\n",
              "    </tr>\n",
              "    <tr>\n",
              "      <th>0</th>\n",
              "      <td>5000</td>\n",
              "    </tr>\n",
              "    <tr>\n",
              "      <th>2</th>\n",
              "      <td>5000</td>\n",
              "    </tr>\n",
              "  </tbody>\n",
              "</table>\n",
              "</div><br><label><b>dtype:</b> int64</label>"
            ]
          },
          "metadata": {},
          "execution_count": 20
        }
      ]
    },
    {
      "cell_type": "markdown",
      "source": [
        "### Number of features in the dataset"
      ],
      "metadata": {
        "id": "YTTVHfQgCgWm"
      }
    },
    {
      "cell_type": "code",
      "source": [
        "num_features = df.shape[1]\n",
        "num_features\n"
      ],
      "metadata": {
        "colab": {
          "base_uri": "https://localhost:8080/"
        },
        "id": "DwsZ7n9KB-zY",
        "outputId": "6036cffb-738a-45fe-9837-f89a2d480ada"
      },
      "execution_count": 21,
      "outputs": [
        {
          "output_type": "execute_result",
          "data": {
            "text/plain": [
              "45"
            ]
          },
          "metadata": {},
          "execution_count": 21
        }
      ]
    },
    {
      "cell_type": "code",
      "source": [
        "from sklearn.tree import DecisionTreeClassifier\n",
        "from sklearn.ensemble import RandomForestClassifier\n",
        "from sklearn.svm import SVC\n",
        "from sklearn.linear_model import LogisticRegression\n",
        "from sklearn.neighbors import KNeighborsClassifier\n",
        "from sklearn.metrics import classification_report, confusion_matrix\n",
        "\n",
        "# Models\n",
        "models = {\n",
        "    \"Decision Tree\": DecisionTreeClassifier(random_state=42),\n",
        "    \"Random Forest\": RandomForestClassifier(random_state=42),\n",
        "    \"SVM\": SVC(random_state=42),\n",
        "    \"Logistic Regression\": LogisticRegression(random_state=42),\n",
        "    \"k-NN\": KNeighborsClassifier()\n",
        "}\n",
        "\n",
        "# Train models and evaluate\n",
        "results = {}\n",
        "for name, model in models.items():\n",
        "    model.fit(X_final, y_final)\n",
        "    y_pred = model.predict(X_final)\n",
        "    results[name] = {\n",
        "        \"classification_report\": classification_report(y_final, y_pred),\n",
        "        \"confusion_matrix\": confusion_matrix(y_final, y_pred)\n",
        "    }\n",
        "\n",
        "for name, result in results.items():\n",
        "    print(f\"\\nModel: {name}\")\n",
        "    print(result[\"classification_report\"])\n",
        "    print(result[\"confusion_matrix\"])\n"
      ],
      "metadata": {
        "colab": {
          "base_uri": "https://localhost:8080/"
        },
        "id": "N9CoXahcEa3A",
        "outputId": "42498ebb-376b-48f5-d48c-74cd94a8cf4f"
      },
      "execution_count": 25,
      "outputs": [
        {
          "output_type": "stream",
          "name": "stderr",
          "text": [
            "/usr/local/lib/python3.10/dist-packages/sklearn/linear_model/_logistic.py:460: ConvergenceWarning: lbfgs failed to converge (status=1):\n",
            "STOP: TOTAL NO. of ITERATIONS REACHED LIMIT.\n",
            "\n",
            "Increase the number of iterations (max_iter) or scale the data as shown in:\n",
            "    https://scikit-learn.org/stable/modules/preprocessing.html\n",
            "Please also refer to the documentation for alternative solver options:\n",
            "    https://scikit-learn.org/stable/modules/linear_model.html#logistic-regression\n",
            "  n_iter_i = _check_optimize_result(\n"
          ]
        },
        {
          "output_type": "stream",
          "name": "stdout",
          "text": [
            "\n",
            "Model: Decision Tree\n",
            "              precision    recall  f1-score   support\n",
            "\n",
            "           0       1.00      1.00      1.00      5000\n",
            "           1       1.00      1.00      1.00      5047\n",
            "           2       1.00      1.00      1.00      5000\n",
            "\n",
            "    accuracy                           1.00     15047\n",
            "   macro avg       1.00      1.00      1.00     15047\n",
            "weighted avg       1.00      1.00      1.00     15047\n",
            "\n",
            "[[5000    0    0]\n",
            " [   4 5043    0]\n",
            " [   0    0 5000]]\n",
            "\n",
            "Model: Random Forest\n",
            "              precision    recall  f1-score   support\n",
            "\n",
            "           0       1.00      1.00      1.00      5000\n",
            "           1       1.00      1.00      1.00      5047\n",
            "           2       1.00      1.00      1.00      5000\n",
            "\n",
            "    accuracy                           1.00     15047\n",
            "   macro avg       1.00      1.00      1.00     15047\n",
            "weighted avg       1.00      1.00      1.00     15047\n",
            "\n",
            "[[5000    0    0]\n",
            " [   4 5043    0]\n",
            " [   0    0 5000]]\n",
            "\n",
            "Model: SVM\n",
            "              precision    recall  f1-score   support\n",
            "\n",
            "           0       0.42      0.80      0.55      5000\n",
            "           1       0.53      0.05      0.09      5047\n",
            "           2       0.53      0.53      0.53      5000\n",
            "\n",
            "    accuracy                           0.46     15047\n",
            "   macro avg       0.49      0.46      0.39     15047\n",
            "weighted avg       0.49      0.46      0.39     15047\n",
            "\n",
            "[[3986   73  941]\n",
            " [3347  249 1451]\n",
            " [2188  147 2665]]\n",
            "\n",
            "Model: Logistic Regression\n",
            "              precision    recall  f1-score   support\n",
            "\n",
            "           0       0.44      0.65      0.53      5000\n",
            "           1       0.42      0.18      0.25      5047\n",
            "           2       0.48      0.54      0.51      5000\n",
            "\n",
            "    accuracy                           0.46     15047\n",
            "   macro avg       0.45      0.46      0.43     15047\n",
            "weighted avg       0.45      0.46      0.43     15047\n",
            "\n",
            "[[3244  546 1210]\n",
            " [2434  890 1723]\n",
            " [1622  662 2716]]\n",
            "\n",
            "Model: k-NN\n",
            "              precision    recall  f1-score   support\n",
            "\n",
            "           0       0.87      0.97      0.92      5000\n",
            "           1       0.90      0.87      0.88      5047\n",
            "           2       0.93      0.85      0.88      5000\n",
            "\n",
            "    accuracy                           0.90     15047\n",
            "   macro avg       0.90      0.90      0.89     15047\n",
            "weighted avg       0.90      0.90      0.89     15047\n",
            "\n",
            "[[4840   97   63]\n",
            " [ 374 4401  272]\n",
            " [ 352  416 4232]]\n"
          ]
        }
      ]
    },
    {
      "cell_type": "markdown",
      "source": [
        "# Generate a full table with all the algorithms and their respective metrics to evaluate the best performing model"
      ],
      "metadata": {
        "id": "2K7QJ5hoGd3F"
      }
    },
    {
      "cell_type": "code",
      "source": [
        "# Define the metrics for each model\n",
        "data = {\n",
        "    'Metric': ['Precision (Class 0)', 'Precision (Class 1)', 'Precision (Class 2)',\n",
        "               'Recall (Class 0)', 'Recall (Class 1)', 'Recall (Class 2)',\n",
        "               'F1-Score (Class 0)', 'F1-Score (Class 1)', 'F1-Score (Class 2)',\n",
        "               'Accuracy', 'Macro Average Precision', 'Macro Average Recall',\n",
        "               'Macro Average F1-Score', 'Weighted Average Precision',\n",
        "               'Weighted Average Recall', 'Weighted Average F1-Score'],\n",
        "\n",
        "    'Decision Tree': [1.00, 1.00, 1.00, 1.00, 1.00, 1.00, 1.00, 1.00, 1.00, 1.00,\n",
        "                       1.00, 1.00, 1.00, 1.00, 1.00, 1.00],\n",
        "\n",
        "    'Random Forest': [1.00, 1.00, 1.00, 1.00, 1.00, 1.00, 1.00, 1.00, 1.00, 1.00,\n",
        "                       1.00, 1.00, 1.00, 1.00, 1.00, 1.00],\n",
        "\n",
        "    'SVM': [0.42, 0.53, 0.53, 0.80, 0.05, 0.53, 0.55, 0.09, 0.53, 0.46,\n",
        "            0.49, 0.46, 0.39, 0.49, 0.46, 0.39],\n",
        "\n",
        "    'Logistic Regression': [0.44, 0.42, 0.48, 0.65, 0.18, 0.54, 0.53, 0.25, 0.51, 0.46,\n",
        "                             0.45, 0.46, 0.43, 0.45, 0.46, 0.43],\n",
        "\n",
        "    'k-NN': [0.87, 0.90, 0.93, 0.97, 0.87, 0.85, 0.92, 0.88, 0.88, 0.90,\n",
        "             0.90, 0.90, 0.89, 0.90, 0.90, 0.89]\n",
        "}\n"
      ],
      "metadata": {
        "id": "jWJV7eQrGcvz"
      },
      "execution_count": 27,
      "outputs": []
    },
    {
      "cell_type": "code",
      "source": [
        "# Create a DataFrame\n",
        "df_comparison = pd.DataFrame(data)\n",
        "\n",
        "# Set 'Metric' column as the index\n",
        "df_comparison.set_index('Metric', inplace=True)\n",
        "\n",
        "# Display the table\n",
        "df_comparison\n"
      ],
      "metadata": {
        "colab": {
          "base_uri": "https://localhost:8080/",
          "height": 687
        },
        "id": "cLMSdjJHGts-",
        "outputId": "dad02ab9-38f9-4554-cfac-d6ea2648893a"
      },
      "execution_count": 29,
      "outputs": [
        {
          "output_type": "execute_result",
          "data": {
            "text/plain": [
              "                            Decision Tree  Random Forest   SVM  \\\n",
              "Metric                                                           \n",
              "Precision (Class 0)                   1.0            1.0  0.42   \n",
              "Precision (Class 1)                   1.0            1.0  0.53   \n",
              "Precision (Class 2)                   1.0            1.0  0.53   \n",
              "Recall (Class 0)                      1.0            1.0  0.80   \n",
              "Recall (Class 1)                      1.0            1.0  0.05   \n",
              "Recall (Class 2)                      1.0            1.0  0.53   \n",
              "F1-Score (Class 0)                    1.0            1.0  0.55   \n",
              "F1-Score (Class 1)                    1.0            1.0  0.09   \n",
              "F1-Score (Class 2)                    1.0            1.0  0.53   \n",
              "Accuracy                              1.0            1.0  0.46   \n",
              "Macro Average Precision               1.0            1.0  0.49   \n",
              "Macro Average Recall                  1.0            1.0  0.46   \n",
              "Macro Average F1-Score                1.0            1.0  0.39   \n",
              "Weighted Average Precision            1.0            1.0  0.49   \n",
              "Weighted Average Recall               1.0            1.0  0.46   \n",
              "Weighted Average F1-Score             1.0            1.0  0.39   \n",
              "\n",
              "                            Logistic Regression  k-NN  \n",
              "Metric                                                 \n",
              "Precision (Class 0)                        0.44  0.87  \n",
              "Precision (Class 1)                        0.42  0.90  \n",
              "Precision (Class 2)                        0.48  0.93  \n",
              "Recall (Class 0)                           0.65  0.97  \n",
              "Recall (Class 1)                           0.18  0.87  \n",
              "Recall (Class 2)                           0.54  0.85  \n",
              "F1-Score (Class 0)                         0.53  0.92  \n",
              "F1-Score (Class 1)                         0.25  0.88  \n",
              "F1-Score (Class 2)                         0.51  0.88  \n",
              "Accuracy                                   0.46  0.90  \n",
              "Macro Average Precision                    0.45  0.90  \n",
              "Macro Average Recall                       0.46  0.90  \n",
              "Macro Average F1-Score                     0.43  0.89  \n",
              "Weighted Average Precision                 0.45  0.90  \n",
              "Weighted Average Recall                    0.46  0.90  \n",
              "Weighted Average F1-Score                  0.43  0.89  "
            ],
            "text/html": [
              "\n",
              "  <div id=\"df-18b7e9fc-3885-464a-b7e6-59ba8bafc326\" class=\"colab-df-container\">\n",
              "    <div>\n",
              "<style scoped>\n",
              "    .dataframe tbody tr th:only-of-type {\n",
              "        vertical-align: middle;\n",
              "    }\n",
              "\n",
              "    .dataframe tbody tr th {\n",
              "        vertical-align: top;\n",
              "    }\n",
              "\n",
              "    .dataframe thead th {\n",
              "        text-align: right;\n",
              "    }\n",
              "</style>\n",
              "<table border=\"1\" class=\"dataframe\">\n",
              "  <thead>\n",
              "    <tr style=\"text-align: right;\">\n",
              "      <th></th>\n",
              "      <th>Decision Tree</th>\n",
              "      <th>Random Forest</th>\n",
              "      <th>SVM</th>\n",
              "      <th>Logistic Regression</th>\n",
              "      <th>k-NN</th>\n",
              "    </tr>\n",
              "    <tr>\n",
              "      <th>Metric</th>\n",
              "      <th></th>\n",
              "      <th></th>\n",
              "      <th></th>\n",
              "      <th></th>\n",
              "      <th></th>\n",
              "    </tr>\n",
              "  </thead>\n",
              "  <tbody>\n",
              "    <tr>\n",
              "      <th>Precision (Class 0)</th>\n",
              "      <td>1.0</td>\n",
              "      <td>1.0</td>\n",
              "      <td>0.42</td>\n",
              "      <td>0.44</td>\n",
              "      <td>0.87</td>\n",
              "    </tr>\n",
              "    <tr>\n",
              "      <th>Precision (Class 1)</th>\n",
              "      <td>1.0</td>\n",
              "      <td>1.0</td>\n",
              "      <td>0.53</td>\n",
              "      <td>0.42</td>\n",
              "      <td>0.90</td>\n",
              "    </tr>\n",
              "    <tr>\n",
              "      <th>Precision (Class 2)</th>\n",
              "      <td>1.0</td>\n",
              "      <td>1.0</td>\n",
              "      <td>0.53</td>\n",
              "      <td>0.48</td>\n",
              "      <td>0.93</td>\n",
              "    </tr>\n",
              "    <tr>\n",
              "      <th>Recall (Class 0)</th>\n",
              "      <td>1.0</td>\n",
              "      <td>1.0</td>\n",
              "      <td>0.80</td>\n",
              "      <td>0.65</td>\n",
              "      <td>0.97</td>\n",
              "    </tr>\n",
              "    <tr>\n",
              "      <th>Recall (Class 1)</th>\n",
              "      <td>1.0</td>\n",
              "      <td>1.0</td>\n",
              "      <td>0.05</td>\n",
              "      <td>0.18</td>\n",
              "      <td>0.87</td>\n",
              "    </tr>\n",
              "    <tr>\n",
              "      <th>Recall (Class 2)</th>\n",
              "      <td>1.0</td>\n",
              "      <td>1.0</td>\n",
              "      <td>0.53</td>\n",
              "      <td>0.54</td>\n",
              "      <td>0.85</td>\n",
              "    </tr>\n",
              "    <tr>\n",
              "      <th>F1-Score (Class 0)</th>\n",
              "      <td>1.0</td>\n",
              "      <td>1.0</td>\n",
              "      <td>0.55</td>\n",
              "      <td>0.53</td>\n",
              "      <td>0.92</td>\n",
              "    </tr>\n",
              "    <tr>\n",
              "      <th>F1-Score (Class 1)</th>\n",
              "      <td>1.0</td>\n",
              "      <td>1.0</td>\n",
              "      <td>0.09</td>\n",
              "      <td>0.25</td>\n",
              "      <td>0.88</td>\n",
              "    </tr>\n",
              "    <tr>\n",
              "      <th>F1-Score (Class 2)</th>\n",
              "      <td>1.0</td>\n",
              "      <td>1.0</td>\n",
              "      <td>0.53</td>\n",
              "      <td>0.51</td>\n",
              "      <td>0.88</td>\n",
              "    </tr>\n",
              "    <tr>\n",
              "      <th>Accuracy</th>\n",
              "      <td>1.0</td>\n",
              "      <td>1.0</td>\n",
              "      <td>0.46</td>\n",
              "      <td>0.46</td>\n",
              "      <td>0.90</td>\n",
              "    </tr>\n",
              "    <tr>\n",
              "      <th>Macro Average Precision</th>\n",
              "      <td>1.0</td>\n",
              "      <td>1.0</td>\n",
              "      <td>0.49</td>\n",
              "      <td>0.45</td>\n",
              "      <td>0.90</td>\n",
              "    </tr>\n",
              "    <tr>\n",
              "      <th>Macro Average Recall</th>\n",
              "      <td>1.0</td>\n",
              "      <td>1.0</td>\n",
              "      <td>0.46</td>\n",
              "      <td>0.46</td>\n",
              "      <td>0.90</td>\n",
              "    </tr>\n",
              "    <tr>\n",
              "      <th>Macro Average F1-Score</th>\n",
              "      <td>1.0</td>\n",
              "      <td>1.0</td>\n",
              "      <td>0.39</td>\n",
              "      <td>0.43</td>\n",
              "      <td>0.89</td>\n",
              "    </tr>\n",
              "    <tr>\n",
              "      <th>Weighted Average Precision</th>\n",
              "      <td>1.0</td>\n",
              "      <td>1.0</td>\n",
              "      <td>0.49</td>\n",
              "      <td>0.45</td>\n",
              "      <td>0.90</td>\n",
              "    </tr>\n",
              "    <tr>\n",
              "      <th>Weighted Average Recall</th>\n",
              "      <td>1.0</td>\n",
              "      <td>1.0</td>\n",
              "      <td>0.46</td>\n",
              "      <td>0.46</td>\n",
              "      <td>0.90</td>\n",
              "    </tr>\n",
              "    <tr>\n",
              "      <th>Weighted Average F1-Score</th>\n",
              "      <td>1.0</td>\n",
              "      <td>1.0</td>\n",
              "      <td>0.39</td>\n",
              "      <td>0.43</td>\n",
              "      <td>0.89</td>\n",
              "    </tr>\n",
              "  </tbody>\n",
              "</table>\n",
              "</div>\n",
              "    <div class=\"colab-df-buttons\">\n",
              "\n",
              "  <div class=\"colab-df-container\">\n",
              "    <button class=\"colab-df-convert\" onclick=\"convertToInteractive('df-18b7e9fc-3885-464a-b7e6-59ba8bafc326')\"\n",
              "            title=\"Convert this dataframe to an interactive table.\"\n",
              "            style=\"display:none;\">\n",
              "\n",
              "  <svg xmlns=\"http://www.w3.org/2000/svg\" height=\"24px\" viewBox=\"0 -960 960 960\">\n",
              "    <path d=\"M120-120v-720h720v720H120Zm60-500h600v-160H180v160Zm220 220h160v-160H400v160Zm0 220h160v-160H400v160ZM180-400h160v-160H180v160Zm440 0h160v-160H620v160ZM180-180h160v-160H180v160Zm440 0h160v-160H620v160Z\"/>\n",
              "  </svg>\n",
              "    </button>\n",
              "\n",
              "  <style>\n",
              "    .colab-df-container {\n",
              "      display:flex;\n",
              "      gap: 12px;\n",
              "    }\n",
              "\n",
              "    .colab-df-convert {\n",
              "      background-color: #E8F0FE;\n",
              "      border: none;\n",
              "      border-radius: 50%;\n",
              "      cursor: pointer;\n",
              "      display: none;\n",
              "      fill: #1967D2;\n",
              "      height: 32px;\n",
              "      padding: 0 0 0 0;\n",
              "      width: 32px;\n",
              "    }\n",
              "\n",
              "    .colab-df-convert:hover {\n",
              "      background-color: #E2EBFA;\n",
              "      box-shadow: 0px 1px 2px rgba(60, 64, 67, 0.3), 0px 1px 3px 1px rgba(60, 64, 67, 0.15);\n",
              "      fill: #174EA6;\n",
              "    }\n",
              "\n",
              "    .colab-df-buttons div {\n",
              "      margin-bottom: 4px;\n",
              "    }\n",
              "\n",
              "    [theme=dark] .colab-df-convert {\n",
              "      background-color: #3B4455;\n",
              "      fill: #D2E3FC;\n",
              "    }\n",
              "\n",
              "    [theme=dark] .colab-df-convert:hover {\n",
              "      background-color: #434B5C;\n",
              "      box-shadow: 0px 1px 3px 1px rgba(0, 0, 0, 0.15);\n",
              "      filter: drop-shadow(0px 1px 2px rgba(0, 0, 0, 0.3));\n",
              "      fill: #FFFFFF;\n",
              "    }\n",
              "  </style>\n",
              "\n",
              "    <script>\n",
              "      const buttonEl =\n",
              "        document.querySelector('#df-18b7e9fc-3885-464a-b7e6-59ba8bafc326 button.colab-df-convert');\n",
              "      buttonEl.style.display =\n",
              "        google.colab.kernel.accessAllowed ? 'block' : 'none';\n",
              "\n",
              "      async function convertToInteractive(key) {\n",
              "        const element = document.querySelector('#df-18b7e9fc-3885-464a-b7e6-59ba8bafc326');\n",
              "        const dataTable =\n",
              "          await google.colab.kernel.invokeFunction('convertToInteractive',\n",
              "                                                    [key], {});\n",
              "        if (!dataTable) return;\n",
              "\n",
              "        const docLinkHtml = 'Like what you see? Visit the ' +\n",
              "          '<a target=\"_blank\" href=https://colab.research.google.com/notebooks/data_table.ipynb>data table notebook</a>'\n",
              "          + ' to learn more about interactive tables.';\n",
              "        element.innerHTML = '';\n",
              "        dataTable['output_type'] = 'display_data';\n",
              "        await google.colab.output.renderOutput(dataTable, element);\n",
              "        const docLink = document.createElement('div');\n",
              "        docLink.innerHTML = docLinkHtml;\n",
              "        element.appendChild(docLink);\n",
              "      }\n",
              "    </script>\n",
              "  </div>\n",
              "\n",
              "\n",
              "<div id=\"df-39dc0679-af1e-459c-b6bf-6d164dd5cb37\">\n",
              "  <button class=\"colab-df-quickchart\" onclick=\"quickchart('df-39dc0679-af1e-459c-b6bf-6d164dd5cb37')\"\n",
              "            title=\"Suggest charts\"\n",
              "            style=\"display:none;\">\n",
              "\n",
              "<svg xmlns=\"http://www.w3.org/2000/svg\" height=\"24px\"viewBox=\"0 0 24 24\"\n",
              "     width=\"24px\">\n",
              "    <g>\n",
              "        <path d=\"M19 3H5c-1.1 0-2 .9-2 2v14c0 1.1.9 2 2 2h14c1.1 0 2-.9 2-2V5c0-1.1-.9-2-2-2zM9 17H7v-7h2v7zm4 0h-2V7h2v10zm4 0h-2v-4h2v4z\"/>\n",
              "    </g>\n",
              "</svg>\n",
              "  </button>\n",
              "\n",
              "<style>\n",
              "  .colab-df-quickchart {\n",
              "      --bg-color: #E8F0FE;\n",
              "      --fill-color: #1967D2;\n",
              "      --hover-bg-color: #E2EBFA;\n",
              "      --hover-fill-color: #174EA6;\n",
              "      --disabled-fill-color: #AAA;\n",
              "      --disabled-bg-color: #DDD;\n",
              "  }\n",
              "\n",
              "  [theme=dark] .colab-df-quickchart {\n",
              "      --bg-color: #3B4455;\n",
              "      --fill-color: #D2E3FC;\n",
              "      --hover-bg-color: #434B5C;\n",
              "      --hover-fill-color: #FFFFFF;\n",
              "      --disabled-bg-color: #3B4455;\n",
              "      --disabled-fill-color: #666;\n",
              "  }\n",
              "\n",
              "  .colab-df-quickchart {\n",
              "    background-color: var(--bg-color);\n",
              "    border: none;\n",
              "    border-radius: 50%;\n",
              "    cursor: pointer;\n",
              "    display: none;\n",
              "    fill: var(--fill-color);\n",
              "    height: 32px;\n",
              "    padding: 0;\n",
              "    width: 32px;\n",
              "  }\n",
              "\n",
              "  .colab-df-quickchart:hover {\n",
              "    background-color: var(--hover-bg-color);\n",
              "    box-shadow: 0 1px 2px rgba(60, 64, 67, 0.3), 0 1px 3px 1px rgba(60, 64, 67, 0.15);\n",
              "    fill: var(--button-hover-fill-color);\n",
              "  }\n",
              "\n",
              "  .colab-df-quickchart-complete:disabled,\n",
              "  .colab-df-quickchart-complete:disabled:hover {\n",
              "    background-color: var(--disabled-bg-color);\n",
              "    fill: var(--disabled-fill-color);\n",
              "    box-shadow: none;\n",
              "  }\n",
              "\n",
              "  .colab-df-spinner {\n",
              "    border: 2px solid var(--fill-color);\n",
              "    border-color: transparent;\n",
              "    border-bottom-color: var(--fill-color);\n",
              "    animation:\n",
              "      spin 1s steps(1) infinite;\n",
              "  }\n",
              "\n",
              "  @keyframes spin {\n",
              "    0% {\n",
              "      border-color: transparent;\n",
              "      border-bottom-color: var(--fill-color);\n",
              "      border-left-color: var(--fill-color);\n",
              "    }\n",
              "    20% {\n",
              "      border-color: transparent;\n",
              "      border-left-color: var(--fill-color);\n",
              "      border-top-color: var(--fill-color);\n",
              "    }\n",
              "    30% {\n",
              "      border-color: transparent;\n",
              "      border-left-color: var(--fill-color);\n",
              "      border-top-color: var(--fill-color);\n",
              "      border-right-color: var(--fill-color);\n",
              "    }\n",
              "    40% {\n",
              "      border-color: transparent;\n",
              "      border-right-color: var(--fill-color);\n",
              "      border-top-color: var(--fill-color);\n",
              "    }\n",
              "    60% {\n",
              "      border-color: transparent;\n",
              "      border-right-color: var(--fill-color);\n",
              "    }\n",
              "    80% {\n",
              "      border-color: transparent;\n",
              "      border-right-color: var(--fill-color);\n",
              "      border-bottom-color: var(--fill-color);\n",
              "    }\n",
              "    90% {\n",
              "      border-color: transparent;\n",
              "      border-bottom-color: var(--fill-color);\n",
              "    }\n",
              "  }\n",
              "</style>\n",
              "\n",
              "  <script>\n",
              "    async function quickchart(key) {\n",
              "      const quickchartButtonEl =\n",
              "        document.querySelector('#' + key + ' button');\n",
              "      quickchartButtonEl.disabled = true;  // To prevent multiple clicks.\n",
              "      quickchartButtonEl.classList.add('colab-df-spinner');\n",
              "      try {\n",
              "        const charts = await google.colab.kernel.invokeFunction(\n",
              "            'suggestCharts', [key], {});\n",
              "      } catch (error) {\n",
              "        console.error('Error during call to suggestCharts:', error);\n",
              "      }\n",
              "      quickchartButtonEl.classList.remove('colab-df-spinner');\n",
              "      quickchartButtonEl.classList.add('colab-df-quickchart-complete');\n",
              "    }\n",
              "    (() => {\n",
              "      let quickchartButtonEl =\n",
              "        document.querySelector('#df-39dc0679-af1e-459c-b6bf-6d164dd5cb37 button');\n",
              "      quickchartButtonEl.style.display =\n",
              "        google.colab.kernel.accessAllowed ? 'block' : 'none';\n",
              "    })();\n",
              "  </script>\n",
              "</div>\n",
              "\n",
              "  <div id=\"id_81000da6-daba-4a51-a161-980a3ca7f9ff\">\n",
              "    <style>\n",
              "      .colab-df-generate {\n",
              "        background-color: #E8F0FE;\n",
              "        border: none;\n",
              "        border-radius: 50%;\n",
              "        cursor: pointer;\n",
              "        display: none;\n",
              "        fill: #1967D2;\n",
              "        height: 32px;\n",
              "        padding: 0 0 0 0;\n",
              "        width: 32px;\n",
              "      }\n",
              "\n",
              "      .colab-df-generate:hover {\n",
              "        background-color: #E2EBFA;\n",
              "        box-shadow: 0px 1px 2px rgba(60, 64, 67, 0.3), 0px 1px 3px 1px rgba(60, 64, 67, 0.15);\n",
              "        fill: #174EA6;\n",
              "      }\n",
              "\n",
              "      [theme=dark] .colab-df-generate {\n",
              "        background-color: #3B4455;\n",
              "        fill: #D2E3FC;\n",
              "      }\n",
              "\n",
              "      [theme=dark] .colab-df-generate:hover {\n",
              "        background-color: #434B5C;\n",
              "        box-shadow: 0px 1px 3px 1px rgba(0, 0, 0, 0.15);\n",
              "        filter: drop-shadow(0px 1px 2px rgba(0, 0, 0, 0.3));\n",
              "        fill: #FFFFFF;\n",
              "      }\n",
              "    </style>\n",
              "    <button class=\"colab-df-generate\" onclick=\"generateWithVariable('df_comparison')\"\n",
              "            title=\"Generate code using this dataframe.\"\n",
              "            style=\"display:none;\">\n",
              "\n",
              "  <svg xmlns=\"http://www.w3.org/2000/svg\" height=\"24px\"viewBox=\"0 0 24 24\"\n",
              "       width=\"24px\">\n",
              "    <path d=\"M7,19H8.4L18.45,9,17,7.55,7,17.6ZM5,21V16.75L18.45,3.32a2,2,0,0,1,2.83,0l1.4,1.43a1.91,1.91,0,0,1,.58,1.4,1.91,1.91,0,0,1-.58,1.4L9.25,21ZM18.45,9,17,7.55Zm-12,3A5.31,5.31,0,0,0,4.9,8.1,5.31,5.31,0,0,0,1,6.5,5.31,5.31,0,0,0,4.9,4.9,5.31,5.31,0,0,0,6.5,1,5.31,5.31,0,0,0,8.1,4.9,5.31,5.31,0,0,0,12,6.5,5.46,5.46,0,0,0,6.5,12Z\"/>\n",
              "  </svg>\n",
              "    </button>\n",
              "    <script>\n",
              "      (() => {\n",
              "      const buttonEl =\n",
              "        document.querySelector('#id_81000da6-daba-4a51-a161-980a3ca7f9ff button.colab-df-generate');\n",
              "      buttonEl.style.display =\n",
              "        google.colab.kernel.accessAllowed ? 'block' : 'none';\n",
              "\n",
              "      buttonEl.onclick = () => {\n",
              "        google.colab.notebook.generateWithVariable('df_comparison');\n",
              "      }\n",
              "      })();\n",
              "    </script>\n",
              "  </div>\n",
              "\n",
              "    </div>\n",
              "  </div>\n"
            ],
            "application/vnd.google.colaboratory.intrinsic+json": {
              "type": "dataframe",
              "variable_name": "df_comparison",
              "summary": "{\n  \"name\": \"df_comparison\",\n  \"rows\": 16,\n  \"fields\": [\n    {\n      \"column\": \"Metric\",\n      \"properties\": {\n        \"dtype\": \"string\",\n        \"num_unique_values\": 16,\n        \"samples\": [\n          \"Precision (Class 0)\",\n          \"Precision (Class 1)\",\n          \"Recall (Class 2)\"\n        ],\n        \"semantic_type\": \"\",\n        \"description\": \"\"\n      }\n    },\n    {\n      \"column\": \"Decision Tree\",\n      \"properties\": {\n        \"dtype\": \"number\",\n        \"std\": 0.0,\n        \"min\": 1.0,\n        \"max\": 1.0,\n        \"num_unique_values\": 1,\n        \"samples\": [\n          1.0\n        ],\n        \"semantic_type\": \"\",\n        \"description\": \"\"\n      }\n    },\n    {\n      \"column\": \"Random Forest\",\n      \"properties\": {\n        \"dtype\": \"number\",\n        \"std\": 0.0,\n        \"min\": 1.0,\n        \"max\": 1.0,\n        \"num_unique_values\": 1,\n        \"samples\": [\n          1.0\n        ],\n        \"semantic_type\": \"\",\n        \"description\": \"\"\n      }\n    },\n    {\n      \"column\": \"SVM\",\n      \"properties\": {\n        \"dtype\": \"number\",\n        \"std\": 0.17497499821403056,\n        \"min\": 0.05,\n        \"max\": 0.8,\n        \"num_unique_values\": 9,\n        \"samples\": [\n          0.49\n        ],\n        \"semantic_type\": \"\",\n        \"description\": \"\"\n      }\n    },\n    {\n      \"column\": \"Logistic Regression\",\n      \"properties\": {\n        \"dtype\": \"number\",\n        \"std\": 0.10763363786474933,\n        \"min\": 0.18,\n        \"max\": 0.65,\n        \"num_unique_values\": 12,\n        \"samples\": [\n          0.45\n        ],\n        \"semantic_type\": \"\",\n        \"description\": \"\"\n      }\n    },\n    {\n      \"column\": \"k-NN\",\n      \"properties\": {\n        \"dtype\": \"number\",\n        \"std\": 0.027500000000000004,\n        \"min\": 0.85,\n        \"max\": 0.97,\n        \"num_unique_values\": 8,\n        \"samples\": [\n          0.9\n        ],\n        \"semantic_type\": \"\",\n        \"description\": \"\"\n      }\n    }\n  ]\n}"
            }
          },
          "metadata": {},
          "execution_count": 29
        }
      ]
    },
    {
      "cell_type": "markdown",
      "source": [
        "**Analysis**\n",
        "\n",
        "Decision Tree and Random Forest both models achieve perfect scores across all metrics, indicating very high performance.\n",
        "\n",
        "The k-NN model performs well with high precision, recall, and F1-scores, particularly for Class 0 and Class 2, but slightly lower for Class 1 compared to Decision Tree and Random Forest.\n",
        "\n",
        "The SVM model has lower performance across all metrics, especially in recall and F1-score for Classes 1 and 2.\n",
        "\n",
        "The logistice regression model shows decent performance but does not match the Decision Tree, Random Forest, or k-NN models in terms of precision and recall, especially for Class 1.\n",
        "\n",
        "The k-NN model provides a good balance of precision and recall, making it a strong candidate among the models tested."
      ],
      "metadata": {
        "id": "P7NDR8SdHD7C"
      }
    },
    {
      "cell_type": "markdown",
      "source": [
        "# Save the model\n"
      ],
      "metadata": {
        "id": "sxrj9oxyHdkz"
      }
    },
    {
      "cell_type": "code",
      "source": [
        "import joblib\n",
        "\n",
        "final_model = models[\"k-NN\"]\n",
        "joblib.dump(final_model, 'knn_model.pkl')\n"
      ],
      "metadata": {
        "colab": {
          "base_uri": "https://localhost:8080/"
        },
        "id": "lrk0hxucHV2Y",
        "outputId": "2d4555ed-eb7b-4755-aabf-5e547ea58658"
      },
      "execution_count": 34,
      "outputs": [
        {
          "output_type": "execute_result",
          "data": {
            "text/plain": [
              "['knn_model.pkl']"
            ]
          },
          "metadata": {},
          "execution_count": 34
        }
      ]
    },
    {
      "cell_type": "markdown",
      "source": [
        "# Step 3: ML to AI\n",
        "\n"
      ],
      "metadata": {
        "id": "Yif1i2Y9Mz4D"
      }
    },
    {
      "cell_type": "code",
      "source": [
        "import joblib\n",
        "\n",
        "# Load the saved k-NN model\n",
        "model = joblib.load('knn_model.pkl')\n",
        "\n",
        "# Prepare the Test Data\n",
        "X_test = vegemite_remaining.drop('Class', axis=1)\n",
        "y_test = vegemite_remaining['Class']\n",
        "\n",
        "missing_columns = [col for col in X_final.columns if col not in X_test.columns]\n",
        "if missing_columns:\n",
        "    X_test = X_test.drop(columns=missing_columns, errors='ignore')\n",
        "\n",
        "X_test = X_test[X_final.columns.intersection(X_test.columns)]\n",
        "\n",
        "# Predict on test data\n",
        "y_pred = model.predict(X_test)\n",
        "\n",
        "confusion_matrix(y_test, y_pred)\n"
      ],
      "metadata": {
        "colab": {
          "base_uri": "https://localhost:8080/"
        },
        "id": "fcbHdlJCM8vZ",
        "outputId": "b0198d05-b1b4-4fce-80fc-2fe8d509ec53"
      },
      "execution_count": 39,
      "outputs": [
        {
          "output_type": "execute_result",
          "data": {
            "text/plain": [
              "array([[165,   7,   2],\n",
              "       [ 23, 292,  16],\n",
              "       [ 38,  41, 416]])"
            ]
          },
          "metadata": {},
          "execution_count": 39
        }
      ]
    },
    {
      "cell_type": "code",
      "source": [
        "classification_report(y_test, y_pred)"
      ],
      "metadata": {
        "colab": {
          "base_uri": "https://localhost:8080/",
          "height": 125
        },
        "id": "Kf6HlFo5PHnZ",
        "outputId": "57c1ad35-0f0e-4026-a075-9d962e3faa34"
      },
      "execution_count": 40,
      "outputs": [
        {
          "output_type": "execute_result",
          "data": {
            "text/plain": [
              "'              precision    recall  f1-score   support\\n\\n           0       0.73      0.95      0.82       174\\n           1       0.86      0.88      0.87       331\\n           2       0.96      0.84      0.90       495\\n\\n    accuracy                           0.87      1000\\n   macro avg       0.85      0.89      0.86      1000\\nweighted avg       0.89      0.87      0.87      1000\\n'"
            ],
            "application/vnd.google.colaboratory.intrinsic+json": {
              "type": "string"
            }
          },
          "metadata": {},
          "execution_count": 40
        }
      ]
    },
    {
      "cell_type": "code",
      "source": [
        "model_names = [\"Decision Tree\", \"Random Forest\", \"SVM\", \"Logistic Regression\", \"k-NN\"]\n",
        "for name in model_names:\n",
        "    if name != \"k-NN\":\n",
        "        y_pred = model.predict(X_test)\n",
        "        \"\\nModel: {name}\"\n",
        "        print(confusion_matrix(y_test, y_pred))\n",
        "        print(classification_report(y_test, y_pred))\n"
      ],
      "metadata": {
        "colab": {
          "base_uri": "https://localhost:8080/"
        },
        "id": "Y5Z8npaxPK24",
        "outputId": "e0c36416-b57f-4ed8-a65e-1383069552f1"
      },
      "execution_count": 43,
      "outputs": [
        {
          "output_type": "stream",
          "name": "stdout",
          "text": [
            "[[165   7   2]\n",
            " [ 23 292  16]\n",
            " [ 38  41 416]]\n",
            "              precision    recall  f1-score   support\n",
            "\n",
            "           0       0.73      0.95      0.82       174\n",
            "           1       0.86      0.88      0.87       331\n",
            "           2       0.96      0.84      0.90       495\n",
            "\n",
            "    accuracy                           0.87      1000\n",
            "   macro avg       0.85      0.89      0.86      1000\n",
            "weighted avg       0.89      0.87      0.87      1000\n",
            "\n",
            "[[165   7   2]\n",
            " [ 23 292  16]\n",
            " [ 38  41 416]]\n",
            "              precision    recall  f1-score   support\n",
            "\n",
            "           0       0.73      0.95      0.82       174\n",
            "           1       0.86      0.88      0.87       331\n",
            "           2       0.96      0.84      0.90       495\n",
            "\n",
            "    accuracy                           0.87      1000\n",
            "   macro avg       0.85      0.89      0.86      1000\n",
            "weighted avg       0.89      0.87      0.87      1000\n",
            "\n",
            "[[165   7   2]\n",
            " [ 23 292  16]\n",
            " [ 38  41 416]]\n",
            "              precision    recall  f1-score   support\n",
            "\n",
            "           0       0.73      0.95      0.82       174\n",
            "           1       0.86      0.88      0.87       331\n",
            "           2       0.96      0.84      0.90       495\n",
            "\n",
            "    accuracy                           0.87      1000\n",
            "   macro avg       0.85      0.89      0.86      1000\n",
            "weighted avg       0.89      0.87      0.87      1000\n",
            "\n",
            "[[165   7   2]\n",
            " [ 23 292  16]\n",
            " [ 38  41 416]]\n",
            "              precision    recall  f1-score   support\n",
            "\n",
            "           0       0.73      0.95      0.82       174\n",
            "           1       0.86      0.88      0.87       331\n",
            "           2       0.96      0.84      0.90       495\n",
            "\n",
            "    accuracy                           0.87      1000\n",
            "   macro avg       0.85      0.89      0.86      1000\n",
            "weighted avg       0.89      0.87      0.87      1000\n",
            "\n"
          ]
        }
      ]
    }
  ]
}